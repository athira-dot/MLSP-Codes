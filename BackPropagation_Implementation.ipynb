{
 "cells": [
  {
   "cell_type": "markdown",
   "metadata": {},
   "source": [
    "<img src='backpropogation.png'>"
   ]
  },
  {
   "cell_type": "code",
   "execution_count": 1,
   "metadata": {},
   "outputs": [],
   "source": [
    "import os\n",
    "from PIL import Image\n",
    "import numpy as np\n",
    "from pathlib import Path\n",
    "from sklearn.decomposition import PCA"
   ]
  },
  {
   "cell_type": "code",
   "execution_count": 2,
   "metadata": {},
   "outputs": [],
   "source": [
    "import matplotlib.pyplot as plt"
   ]
  },
  {
   "cell_type": "code",
   "execution_count": 3,
   "metadata": {},
   "outputs": [],
   "source": [
    "data_path='Data/emotion_classification/train/'\n",
    "files=os.listdir(data_path)\n",
    "test_data_path='Data/emotion_classification/test/'\n",
    "\n",
    "#os.listdir(test_data_path)\n",
    "#files=os.listdir(data_path)\n",
    "test_files=os.listdir(test_data_path)\n",
    "#print(os.listdir(data_path))\n",
    "\n",
    "N=len(files)\n",
    "label=np.zeros(N)\n",
    "j=0\n",
    "for i in files:\n",
    "  w=i.split(\".\")\n",
    "  if (w[1]==\"happy\"):\n",
    "    label[j]=1\n",
    "  else:\n",
    "    label[j]=0\n",
    "  j=j+1\n",
    "label=np.array(label)\n",
    "\n",
    "n=len(test_files)\n",
    "label_test=np.zeros(n)\n",
    "j=0\n",
    "for i in test_files:\n",
    "  w=i.split(\".\")\n",
    "  if (w[1]==\"happy\"):\n",
    "    label_test[j]=1\n",
    "  else:\n",
    "    label_test[j]=0\n",
    "  j=j+1\n",
    "label_test=np.array(label_test)\n",
    "\n",
    "train_imag=[]\n",
    "test_imag=[]\n",
    "for i in files:\n",
    "  ind_path=data_path+'/'+i\n",
    "  im=Image.open(ind_path)\n",
    "  im=np.array(im).reshape(-1,)\n",
    "  train_imag.append(im)\n",
    "\n",
    "X=train_imag   #data\n",
    "\n",
    "for i in test_files:\n",
    "  ind_path=test_data_path+'/'+i\n",
    "  img=Image.open(ind_path)\n",
    "  img=np.array(img).reshape(-1,)\n",
    "  test_imag.append(img)\n",
    "\n",
    "Y=test_imag   #data\n",
    "\n",
    "\n",
    "comb_data=np.vstack([X,Y])\n",
    "#print(np.shape(comb_data))\n",
    "\n",
    "comb_data=np.array(comb_data)\n",
    "mean_comb=np.mean(comb_data,axis=0)\n",
    "comb_new=comb_data-mean_comb\n",
    "\n"
   ]
  },
  {
   "cell_type": "code",
   "execution_count": 4,
   "metadata": {},
   "outputs": [],
   "source": [
    "def standardization(X):\n",
    "    X=np.array(X,dtype='float64')\n",
    "    X_mean=mean_vector=np.mean(X,axis=0)\n",
    "    X_standard_var=np.sqrt(np.mean(np.square(X-X_mean),axis=0))\n",
    "    X_standard=(X-X_mean)/X_standard_var\n",
    "    return X_standard\n",
    "#%%\n",
    "def sigmoid(X):\n",
    "    z = 1/(1 + np.exp(-X))  \n",
    "    return z\n",
    "\n",
    "def sigmoid_derivative(X):\n",
    "    return np.multiply(sigmoid(X),1-sigmoid(X))\n",
    "\n",
    "\n",
    "def ReLU(X):\n",
    "    return np.maximum(X, 0)\n",
    "\n",
    "def softmax(a):\n",
    "    prob=np.exp(a)\n",
    "    coloum_sum=np.sum(prob,axis=1)\n",
    "    \n",
    "    \n",
    "    for i in range(prob.shape[0]):\n",
    "        prob[i]=prob[i]/coloum_sum[i]\n",
    "        \n",
    "    return prob\n",
    "\n",
    "def reluDerivative(x):\n",
    "    x[x<=0] = 0\n",
    "    x[x>0] = 1\n",
    "    x=np.array(x)\n",
    "    return x\n",
    "\n",
    " \n",
    "def one_hot_encoding(no_samples,no_classes,labels):\n",
    "    t=np.zeros((no_samples,no_classes),np.int16)\n",
    "    \n",
    "    for i in range(no_train_samples):\n",
    "        t[i][labels[i]]=1\n",
    "    \n",
    "    return t\n",
    "    \n",
    "def cross_entropy(true_labels,estimated_labels):\n",
    "    # true_labels are in one hot encoding.\n",
    "    # estimated labels are in probability\n",
    "    \n",
    "    no_samples=true_labels.shape[0]\n",
    "    return -np.sum(true_labels*np.log(y_dash))  "
   ]
  },
  {
   "cell_type": "code",
   "execution_count": 5,
   "metadata": {},
   "outputs": [],
   "source": [
    "#applying high dimensional PCA on data \n",
    "K=12\n",
    "pca = PCA(n_components=K)\n",
    "#pca_x = pca.fit_transform(X) #testing\n",
    "#pca_y = pca.fit_transform(Y)  #training\n",
    "\n",
    "pca_comb=pca.fit_transform(comb_new)\n",
    "pca_comb=pca_comb-np.mean(pca_comb,axis=0)\n",
    "pca_train=pca_comb[0:20,:]   #test data \n",
    "pca_test=pca_comb[20:,:]     #train data"
   ]
  },
  {
   "cell_type": "code",
   "execution_count": 6,
   "metadata": {},
   "outputs": [],
   "source": [
    "def back_propgation(h1,h2,a1,a2,a3,y,y_dash):\n",
    "    no_train_samples=y.shape[0]\n",
    "    sum_w3_gradients=np.zeros_like(W3)\n",
    "    sum_w2_gradients=np.zeros_like(W2)\n",
    "    sum_w1_gradients=np.zeros_like(W1)\n",
    "    \n",
    "    for image_index in range(no_train_samples):\n",
    "    \n",
    "        y_dash_individual=y_dash[image_index]\n",
    "        e_calculated_y=np.zeros_like(y_dash_individual)\n",
    "        e_calculated_y[y[image_index]]=1\n",
    "                \n",
    "        delta_a3=-(e_calculated_y-y_dash_individual)\n",
    "        #print(delta_a3.shape)\n",
    "        \n",
    "        # gradients for w3\n",
    "        delta_w3=np.outer(delta_a3,h2[image_index])\n",
    "        \n",
    "        delta_h2=W3@delta_a3\n",
    "        g_dash_a2=reluDerivative(a2[image_index])\n",
    "        delta_a2=np.multiply(delta_h2,g_dash_a2)\n",
    "\n",
    "        # gradients for w2\n",
    "        delta_w2=np.outer(delta_a2,h1[image_index])\n",
    "\n",
    "        delta_h1=W2@delta_a2\n",
    "        g_dash_a1=reluDerivative(a1[image_index])\n",
    "        delta_a1=np.multiply(delta_h1,g_dash_a1)\n",
    "\n",
    "        # gradients for w1\n",
    "        delta_w1=np.outer(delta_a1,X[image_index])\n",
    " \n",
    "        sum_w3_gradients=sum_w3_gradients+delta_w3.T\n",
    "        sum_w2_gradients=sum_w2_gradients+delta_w2.T\n",
    "        sum_w1_gradients=sum_w1_gradients+delta_w1.T\n",
    "\n",
    "    delta_w3= sum_w3_gradients\n",
    "    delta_w2= sum_w2_gradients\n",
    "    delta_w1= sum_w1_gradients\n",
    "    \n",
    "    return delta_w1,delta_w2,delta_w3"
   ]
  },
  {
   "cell_type": "code",
   "execution_count": 7,
   "metadata": {},
   "outputs": [],
   "source": [
    "def forward_propgation(X):\n",
    "    #activation\n",
    "    #print(W1.shape)\n",
    "    #print(X.shape)\n",
    "    \n",
    "    a1=X@W1\n",
    "    \n",
    "    #print(\"a1.shape\",a1.shape)\n",
    "    #non-linear\n",
    "    h1=ReLU(a1)\n",
    "    #print('h1.shape',h1.shape)\n",
    "    h1=standardization(h1)\n",
    "    \n",
    "    a2=h1@W2\n",
    "    #print(\"a2.shape\",a2.shape)\n",
    "    #non-linear\n",
    "    h2=ReLU(a2)\n",
    "    #print('h2.shape',h2.shape)\n",
    "    h2=standardization(h2)\n",
    "\n",
    "    a3=h2@W3\n",
    "    #print('a2.shape',a3.shape)\n",
    "    #output layer0\n",
    "    \n",
    "    y_dash=softmax(a3)\n",
    "    \n",
    "    calulated_labels=np.argmax(y_dash,axis=1)\n",
    "    \n",
    "    #print('calulated_labels.shape',calulated_labels.shape)\n",
    "    \n",
    "    return a1,h1,a2,h2,a3,y_dash,calulated_labels"
   ]
  },
  {
   "cell_type": "code",
   "execution_count": 8,
   "metadata": {},
   "outputs": [],
   "source": [
    "def accuracy(true_labels,calculated_labels):\n",
    "    \n",
    "    no_correct=0\n",
    "    no_samples=true_labels.shape[0]\n",
    "    for i in range(no_samples):\n",
    "        if(true_labels[i]==calculated_labels[i]):\n",
    "            no_correct=no_correct+1\n",
    "    return (no_correct/no_samples)*100"
   ]
  },
  {
   "cell_type": "code",
   "execution_count": 9,
   "metadata": {},
   "outputs": [],
   "source": [
    "X=pca_train.copy()\n",
    "X=standardization(X)\n",
    "y=np.array(label,np.int16)    \n",
    "\n",
    "no_train_samples=X.shape[0]\n",
    "no_classes=2\n",
    "t=one_hot_encoding(no_train_samples,no_classes,y)"
   ]
  },
  {
   "cell_type": "code",
   "execution_count": 10,
   "metadata": {},
   "outputs": [
    {
     "name": "stdout",
     "output_type": "stream",
     "text": [
      "(20, 13)\n"
     ]
    },
    {
     "data": {
      "text/plain": [
       "(10, 13)"
      ]
     },
     "execution_count": 10,
     "metadata": {},
     "output_type": "execute_result"
    }
   ],
   "source": [
    "#appending ones to make co-efficient for bias \n",
    "\n",
    "bias=np.ones((20,1))\n",
    "X=np.hstack([X,bias])\n",
    "print(X.shape)\n",
    "\n",
    "\n",
    "test_X=standardization(pca_test)\n",
    "bias=np.ones((10,1))\n",
    "test_X=np.hstack([test_X,bias])\n",
    "test_X.shape"
   ]
  },
  {
   "cell_type": "markdown",
   "metadata": {},
   "source": [
    "# 10-Layer DNN:"
   ]
  },
  {
   "cell_type": "code",
   "execution_count": 11,
   "metadata": {},
   "outputs": [],
   "source": [
    "#about neural network.\n",
    "\n",
    "\n",
    "input_size=12\n",
    "output_size=2    \n",
    "hidden_layer_01_size=10\n",
    "hidden_layer_02_size=10\n",
    "\n",
    "\n",
    "#adding input layer\n",
    "W1=np.random.randn(input_size+1,hidden_layer_01_size+1)\n",
    "\n",
    "#adding hidden layers\n",
    "W2=np.random.randn(hidden_layer_01_size+1,hidden_layer_02_size+1)\n",
    "\n",
    "#adding hidden layers.\n",
    "W3=np.random.randn(hidden_layer_02_size+1,output_size)\n",
    "    \n",
    "#adding output softmax_layer need to weight."
   ]
  },
  {
   "cell_type": "code",
   "execution_count": 12,
   "metadata": {},
   "outputs": [
    {
     "name": "stdout",
     "output_type": "stream",
     "text": [
      "cross_entropy 30.105054082927406\n",
      "cross_entropy 23.648071671808385\n",
      "cross_entropy 18.76292142396288\n",
      "cross_entropy 14.62113432567621\n",
      "cross_entropy 11.984650573360728\n",
      "cross_entropy 10.0625413943857\n",
      "cross_entropy 8.723812242463858\n",
      "cross_entropy 7.820246420828657\n",
      "cross_entropy 7.114007231091094\n",
      "cross_entropy 6.564128738999105\n",
      "cross_entropy 6.114274949331643\n",
      "cross_entropy 5.713736368600761\n",
      "cross_entropy 5.374306030054969\n",
      "cross_entropy 5.068723229189999\n",
      "cross_entropy 4.8045379449893755\n",
      "cross_entropy 4.541088078622476\n",
      "cross_entropy 4.245895903513761\n",
      "cross_entropy 4.022971061068298\n",
      "cross_entropy 3.801811539774282\n",
      "cross_entropy 3.6349998194852464\n"
     ]
    }
   ],
   "source": [
    "loss_E=[]\n",
    "\n",
    "for i in range(20):\n",
    "\n",
    "    a1,h1,a2,h2,a3,y_dash,calulated_labels=forward_propgation(X)\n",
    "    \n",
    "    E=cross_entropy(t,y_dash)\n",
    "    loss_E.append(E)\n",
    "    print('cross_entropy',E)\n",
    "    \n",
    "    delta_w1,delta_w2,delta_w3=back_propgation(h1,h2,a1,a2,a3,y,y_dash)\n",
    "    \n",
    "    learning_rate=0.01\n",
    "    \n",
    "    \n",
    "    W1=W1-learning_rate*delta_w1\n",
    "    W2=W2-learning_rate*delta_w2\n",
    "    W3=W3-learning_rate*delta_w3\n"
   ]
  },
  {
   "cell_type": "code",
   "execution_count": 13,
   "metadata": {},
   "outputs": [
    {
     "data": {
      "text/plain": [
       "Text(0.5, 1.0, 'Epochs vs Training error for 10 layer DNN')"
      ]
     },
     "execution_count": 13,
     "metadata": {},
     "output_type": "execute_result"
    },
    {
     "data": {
      "image/png": "[encoded data removed]",
      "text/plain": [
       "<Figure size 432x288 with 1 Axes>"
      ]
     },
     "metadata": {
      "needs_background": "light"
     },
     "output_type": "display_data"
    }
   ],
   "source": [
    "import matplotlib.pyplot as plt\n",
    "plt.plot(np.array(range(20)),loss_E, color =\"red\",marker='o', markerfacecolor='blue', markersize=5)\n",
    "plt.xlabel('Epochs')\n",
    "plt.ylabel('training-error')\n",
    "plt.title('Epochs vs Training error for 10 layer DNN')\n"
   ]
  },
  {
   "cell_type": "markdown",
   "metadata": {},
   "source": [
    "Accuracy Testing for 10 layer DNN:"
   ]
  },
  {
   "cell_type": "code",
   "execution_count": 14,
   "metadata": {},
   "outputs": [
    {
     "name": "stdout",
     "output_type": "stream",
     "text": [
      "training_accuracy 95.0\n"
     ]
    }
   ],
   "source": [
    "caculated_labels=forward_propgation(X)[6]\n",
    "print('training_accuracy',accuracy(caculated_labels,y))"
   ]
  },
  {
   "cell_type": "code",
   "execution_count": 16,
   "metadata": {},
   "outputs": [
    {
     "name": "stdout",
     "output_type": "stream",
     "text": [
      "training_accuracy 80.0\n"
     ]
    }
   ],
   "source": [
    "test_y=np.array(label_test,np.int16) \n",
    "\n",
    "caculated_labels=forward_propgation(test_X)[6]\n",
    "print('training_accuracy',accuracy(caculated_labels,y))"
   ]
  },
  {
   "cell_type": "markdown",
   "metadata": {},
   "source": [
    "# 15-Layer DNN:"
   ]
  },
  {
   "cell_type": "code",
   "execution_count": 17,
   "metadata": {},
   "outputs": [],
   "source": [
    "#about neural network.\n",
    "\n",
    "\n",
    "input_size=12\n",
    "output_size=2    \n",
    "hidden_layer_01_size=15\n",
    "hidden_layer_02_size=15\n",
    "\n",
    "\n",
    "#adding input layer\n",
    "W1=np.random.randn(input_size+1,hidden_layer_01_size+1)\n",
    "\n",
    "#adding hidden layers\n",
    "W2=np.random.randn(hidden_layer_01_size+1,hidden_layer_02_size+1)\n",
    "\n",
    "#adding hidden layers.\n",
    "W3=np.random.randn(hidden_layer_02_size+1,output_size)\n",
    "    \n",
    "#adding output softmax_layer need to weight."
   ]
  },
  {
   "cell_type": "code",
   "execution_count": 18,
   "metadata": {},
   "outputs": [
    {
     "name": "stdout",
     "output_type": "stream",
     "text": [
      "cross_entropy 39.422504624090216\n",
      "cross_entropy 14.080993815360118\n",
      "cross_entropy 6.657606613470238\n",
      "cross_entropy 5.6227382891359685\n",
      "cross_entropy 4.977423563269104\n",
      "cross_entropy 4.427059882873962\n",
      "cross_entropy 3.9217629611100326\n",
      "cross_entropy 3.47893744491993\n",
      "cross_entropy 3.091789299357532\n",
      "cross_entropy 2.7894905942208377\n",
      "cross_entropy 2.4363863455866452\n",
      "cross_entropy 2.135217502812237\n",
      "cross_entropy 1.882339339709985\n",
      "cross_entropy 1.6753909416125063\n",
      "cross_entropy 1.517233082475045\n",
      "cross_entropy 1.365401703173935\n",
      "cross_entropy 1.2659638430780582\n",
      "cross_entropy 1.1523554798535198\n",
      "cross_entropy 1.0581617784453339\n",
      "cross_entropy 0.980145751858505\n"
     ]
    }
   ],
   "source": [
    "loss_E=[]\n",
    "\n",
    "for i in range(20):\n",
    "\n",
    "    a1,h1,a2,h2,a3,y_dash,calulated_labels=forward_propgation(X)\n",
    "    \n",
    "    E=cross_entropy(t,y_dash)\n",
    "    loss_E.append(E)\n",
    "    print('cross_entropy',E)\n",
    "    \n",
    "    delta_w1,delta_w2,delta_w3=back_propgation(h1,h2,a1,a2,a3,y,y_dash)\n",
    "    \n",
    "    learning_rate=0.01\n",
    "    \n",
    "    \n",
    "    W1=W1-learning_rate*delta_w1\n",
    "    W2=W2-learning_rate*delta_w2\n",
    "    W3=W3-learning_rate*delta_w3"
   ]
  },
  {
   "cell_type": "code",
   "execution_count": 19,
   "metadata": {},
   "outputs": [
    {
     "data": {
      "text/plain": [
       "Text(0.5, 1.0, 'Epochs vs Training error for 15 layer DNN')"
      ]
     },
     "execution_count": 19,
     "metadata": {},
     "output_type": "execute_result"
    },
    {
     "data": {
      "image/png": "[encoded data removed]",
      "text/plain": [
       "<Figure size 432x288 with 1 Axes>"
      ]
     },
     "metadata": {
      "needs_background": "light"
     },
     "output_type": "display_data"
    }
   ],
   "source": [
    "import matplotlib.pyplot as plt\n",
    "plt.plot(np.array(range(20)),loss_E, color =\"red\",marker='o', markerfacecolor='blue', markersize=5)\n",
    "plt.xlabel('Epochs')\n",
    "plt.ylabel('training-error')\n",
    "plt.title('Epochs vs Training error for 15 layer DNN')\n"
   ]
  },
  {
   "cell_type": "code",
   "execution_count": 20,
   "metadata": {},
   "outputs": [
    {
     "name": "stdout",
     "output_type": "stream",
     "text": [
      "training_accuracy 100.0\n"
     ]
    }
   ],
   "source": [
    "caculated_labels=forward_propgation(X)[6]\n",
    "print('training_accuracy',accuracy(caculated_labels,y))"
   ]
  },
  {
   "cell_type": "code",
   "execution_count": 21,
   "metadata": {},
   "outputs": [
    {
     "name": "stdout",
     "output_type": "stream",
     "text": [
      "testing_accuracy 80.0\n"
     ]
    }
   ],
   "source": [
    "test_y=np.array(label_test,np.int16) \n",
    "caculated_labels=forward_propgation(test_X)[6]\n",
    "print('testing_accuracy',accuracy(caculated_labels,y))"
   ]
  }
 ],
 "metadata": {
  "kernelspec": {
   "display_name": "Python 3",
   "language": "python",
   "name": "python3"
  },
  "language_info": {
   "codemirror_mode": {
    "name": "ipython",
    "version": 3
   },
   "file_extension": ".py",
   "mimetype": "text/x-python",
   "name": "python",
   "nbconvert_exporter": "python",
   "pygments_lexer": "ipython3",
   "version": "3.8.8"
  }
 },
 "nbformat": 4,
 "nbformat_minor": 2
}
